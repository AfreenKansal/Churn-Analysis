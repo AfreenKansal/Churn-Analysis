{
  "nbformat": 4,
  "nbformat_minor": 0,
  "metadata": {
    "colab": {
      "name": "Predictive Analysis of Monthly Churn.ipynb",
      "provenance": [],
      "collapsed_sections": [
        "BMVSS9AFnnuJ",
        "7SejOKamz-61",
        "plmUL1L5_9A_",
        "TskWodyvHvcl",
        "givlM_eYednN",
        "qfrOaXEw8_nM",
        "vreBJz8OpLwh"
      ]
    },
    "kernelspec": {
      "name": "python3",
      "display_name": "Python 3"
    },
    "language_info": {
      "name": "python"
    }
  },
  "cells": [
    {
      "cell_type": "code",
      "metadata": {
        "id": "hlkTYPzunOXj"
      },
      "source": [
        "# Code to ignore warnings\n",
        "\n",
        "import warnings\n",
        "def fxn():\n",
        "    warnings.warn(\"deprecated\", DeprecationWarning)\n",
        "\n",
        "with warnings.catch_warnings():\n",
        "    warnings.simplefilter(\"ignore\")\n",
        "    fxn()\n",
        "warnings.filterwarnings(\"ignore\")"
      ],
      "execution_count": null,
      "outputs": []
    },
    {
      "cell_type": "code",
      "metadata": {
        "id": "HJWQFkFWfp-f"
      },
      "source": [
        "pip install catboost"
      ],
      "execution_count": null,
      "outputs": []
    },
    {
      "cell_type": "code",
      "metadata": {
        "id": "E-Qq6gCB9JJ8"
      },
      "source": [
        "# Importing all the required libraries\n",
        "\n",
        "import pandas as pd\n",
        "import numpy as np\n",
        "import matplotlib.pyplot as plt\n",
        "import seaborn as sns\n",
        "import re\n",
        "import scipy.stats as sp\n",
        "from statistics import mode\n",
        "from sklearn.model_selection import train_test_split\n",
        "from sklearn.linear_model import LogisticRegression\n",
        "from sklearn.ensemble import RandomForestClassifier\n",
        "from sklearn.metrics import accuracy_score,f1_score,confusion_matrix,precision_score,recall_score,auc\n",
        "from sklearn.preprocessing import StandardScaler,MinMaxScaler\n",
        "from imblearn.under_sampling import NearMiss\n",
        "from xgboost import XGBClassifier\n",
        "from catboost import CatBoostClassifier\n",
        "from statsmodels.stats.outliers_influence import variance_inflation_factor"
      ],
      "execution_count": null,
      "outputs": []
    },
    {
      "cell_type": "markdown",
      "metadata": {
        "id": "BMVSS9AFnnuJ"
      },
      "source": [
        "## Reading Data"
      ]
    },
    {
      "cell_type": "code",
      "metadata": {
        "id": "ikyuCO-YntsY"
      },
      "source": [
        "# Reading the data\n",
        "\n",
        "data = pd.read_csv(\"/content/drive/MyDrive/AINE/Telecom Data.csv\")"
      ],
      "execution_count": null,
      "outputs": []
    },
    {
      "cell_type": "code",
      "metadata": {
        "colab": {
          "base_uri": "https://localhost:8080/"
        },
        "id": "f0cnZlEbrO3r",
        "outputId": "102f4fa8-d3ad-49d6-eca1-b40fbdc5018f"
      },
      "source": [
        "# Printing the first 5 rows of the dataset\n",
        "\n",
        "data.head()"
      ],
      "execution_count": null,
      "outputs": [
        {
          "output_type": "execute_result",
          "data": {
            "text/html": [
              "<div>\n",
              "<style scoped>\n",
              "    .dataframe tbody tr th:only-of-type {\n",
              "        vertical-align: middle;\n",
              "    }\n",
              "\n",
              "    .dataframe tbody tr th {\n",
              "        vertical-align: top;\n",
              "    }\n",
              "\n",
              "    .dataframe thead th {\n",
              "        text-align: right;\n",
              "    }\n",
              "</style>\n",
              "<table border=\"1\" class=\"dataframe\">\n",
              "  <thead>\n",
              "    <tr style=\"text-align: right;\">\n",
              "      <th></th>\n",
              "      <th>CustomerID</th>\n",
              "      <th>Churn</th>\n",
              "      <th>MonthlyRevenue</th>\n",
              "      <th>MonthlyMinutes</th>\n",
              "      <th>TotalRecurringCharge</th>\n",
              "      <th>DirectorAssistedCalls</th>\n",
              "      <th>OverageMinutes</th>\n",
              "      <th>RoamingCalls</th>\n",
              "      <th>PercChangeMinutes</th>\n",
              "      <th>PercChangeRevenues</th>\n",
              "      <th>DroppedCalls</th>\n",
              "      <th>BlockedCalls</th>\n",
              "      <th>UnansweredCalls</th>\n",
              "      <th>CustomerCareCalls</th>\n",
              "      <th>ThreewayCalls</th>\n",
              "      <th>ReceivedCalls</th>\n",
              "      <th>OutboundCalls</th>\n",
              "      <th>InboundCalls</th>\n",
              "      <th>PeakCallsInOut</th>\n",
              "      <th>OffPeakCallsInOut</th>\n",
              "      <th>DroppedBlockedCalls</th>\n",
              "      <th>CallForwardingCalls</th>\n",
              "      <th>CallWaitingCalls</th>\n",
              "      <th>MonthsInService</th>\n",
              "      <th>UniqueSubs</th>\n",
              "      <th>ActiveSubs</th>\n",
              "      <th>ServiceArea</th>\n",
              "      <th>Handsets</th>\n",
              "      <th>HandsetModels</th>\n",
              "      <th>CurrentEquipmentDays</th>\n",
              "      <th>AgeHH1</th>\n",
              "      <th>AgeHH2</th>\n",
              "      <th>ChildrenInHH</th>\n",
              "      <th>HandsetRefurbished</th>\n",
              "      <th>HandsetWebCapable</th>\n",
              "      <th>TruckOwner</th>\n",
              "      <th>RVOwner</th>\n",
              "      <th>Homeownership</th>\n",
              "      <th>BuysViaMailOrder</th>\n",
              "      <th>RespondsToMailOffers</th>\n",
              "      <th>OptOutMailings</th>\n",
              "      <th>NonUSTravel</th>\n",
              "      <th>OwnsComputer</th>\n",
              "      <th>HasCreditCard</th>\n",
              "      <th>RetentionCalls</th>\n",
              "      <th>RetentionOffersAccepted</th>\n",
              "      <th>NewCellphoneUser</th>\n",
              "      <th>NotNewCellphoneUser</th>\n",
              "      <th>ReferralsMadeBySubscriber</th>\n",
              "      <th>IncomeGroup</th>\n",
              "      <th>OwnsMotorcycle</th>\n",
              "      <th>AdjustmentsToCreditRating</th>\n",
              "      <th>HandsetPrice</th>\n",
              "      <th>MadeCallToRetentionTeam</th>\n",
              "      <th>CreditRating</th>\n",
              "      <th>PrizmCode</th>\n",
              "      <th>Occupation</th>\n",
              "      <th>MaritalStatus</th>\n",
              "    </tr>\n",
              "  </thead>\n",
              "  <tbody>\n",
              "    <tr>\n",
              "      <th>0</th>\n",
              "      <td>3000002</td>\n",
              "      <td>Yes</td>\n",
              "      <td>24.00</td>\n",
              "      <td>219.0</td>\n",
              "      <td>22.0</td>\n",
              "      <td>0.25</td>\n",
              "      <td>0.0</td>\n",
              "      <td>0.0</td>\n",
              "      <td>-157.0</td>\n",
              "      <td>-19.0</td>\n",
              "      <td>0.7</td>\n",
              "      <td>0.7</td>\n",
              "      <td>6.3</td>\n",
              "      <td>0.0</td>\n",
              "      <td>0.0</td>\n",
              "      <td>97.2</td>\n",
              "      <td>0.0</td>\n",
              "      <td>0.0</td>\n",
              "      <td>58.0</td>\n",
              "      <td>24.0</td>\n",
              "      <td>1.3</td>\n",
              "      <td>0.0</td>\n",
              "      <td>0.3</td>\n",
              "      <td>61</td>\n",
              "      <td>2</td>\n",
              "      <td>1</td>\n",
              "      <td>SEAPOR503</td>\n",
              "      <td>2.0</td>\n",
              "      <td>2.0</td>\n",
              "      <td>361.0</td>\n",
              "      <td>62.0</td>\n",
              "      <td>0.0</td>\n",
              "      <td>No</td>\n",
              "      <td>No</td>\n",
              "      <td>Yes</td>\n",
              "      <td>No</td>\n",
              "      <td>No</td>\n",
              "      <td>Known</td>\n",
              "      <td>Yes</td>\n",
              "      <td>Yes</td>\n",
              "      <td>No</td>\n",
              "      <td>No</td>\n",
              "      <td>Yes</td>\n",
              "      <td>Yes</td>\n",
              "      <td>1</td>\n",
              "      <td>0</td>\n",
              "      <td>No</td>\n",
              "      <td>No</td>\n",
              "      <td>0</td>\n",
              "      <td>4</td>\n",
              "      <td>No</td>\n",
              "      <td>0</td>\n",
              "      <td>30</td>\n",
              "      <td>Yes</td>\n",
              "      <td>1-Highest</td>\n",
              "      <td>Suburban</td>\n",
              "      <td>Professional</td>\n",
              "      <td>No</td>\n",
              "    </tr>\n",
              "    <tr>\n",
              "      <th>1</th>\n",
              "      <td>3000010</td>\n",
              "      <td>Yes</td>\n",
              "      <td>16.99</td>\n",
              "      <td>10.0</td>\n",
              "      <td>17.0</td>\n",
              "      <td>0.00</td>\n",
              "      <td>0.0</td>\n",
              "      <td>0.0</td>\n",
              "      <td>-4.0</td>\n",
              "      <td>0.0</td>\n",
              "      <td>0.3</td>\n",
              "      <td>0.0</td>\n",
              "      <td>2.7</td>\n",
              "      <td>0.0</td>\n",
              "      <td>0.0</td>\n",
              "      <td>0.0</td>\n",
              "      <td>0.0</td>\n",
              "      <td>0.0</td>\n",
              "      <td>5.0</td>\n",
              "      <td>1.0</td>\n",
              "      <td>0.3</td>\n",
              "      <td>0.0</td>\n",
              "      <td>0.0</td>\n",
              "      <td>58</td>\n",
              "      <td>1</td>\n",
              "      <td>1</td>\n",
              "      <td>PITHOM412</td>\n",
              "      <td>2.0</td>\n",
              "      <td>1.0</td>\n",
              "      <td>1504.0</td>\n",
              "      <td>40.0</td>\n",
              "      <td>42.0</td>\n",
              "      <td>Yes</td>\n",
              "      <td>No</td>\n",
              "      <td>No</td>\n",
              "      <td>No</td>\n",
              "      <td>No</td>\n",
              "      <td>Known</td>\n",
              "      <td>Yes</td>\n",
              "      <td>Yes</td>\n",
              "      <td>No</td>\n",
              "      <td>No</td>\n",
              "      <td>Yes</td>\n",
              "      <td>Yes</td>\n",
              "      <td>0</td>\n",
              "      <td>0</td>\n",
              "      <td>Yes</td>\n",
              "      <td>No</td>\n",
              "      <td>0</td>\n",
              "      <td>5</td>\n",
              "      <td>No</td>\n",
              "      <td>0</td>\n",
              "      <td>30</td>\n",
              "      <td>No</td>\n",
              "      <td>4-Medium</td>\n",
              "      <td>Suburban</td>\n",
              "      <td>Professional</td>\n",
              "      <td>Yes</td>\n",
              "    </tr>\n",
              "    <tr>\n",
              "      <th>2</th>\n",
              "      <td>3000014</td>\n",
              "      <td>No</td>\n",
              "      <td>38.00</td>\n",
              "      <td>8.0</td>\n",
              "      <td>38.0</td>\n",
              "      <td>0.00</td>\n",
              "      <td>0.0</td>\n",
              "      <td>0.0</td>\n",
              "      <td>-2.0</td>\n",
              "      <td>0.0</td>\n",
              "      <td>0.0</td>\n",
              "      <td>0.0</td>\n",
              "      <td>0.0</td>\n",
              "      <td>0.0</td>\n",
              "      <td>0.0</td>\n",
              "      <td>0.4</td>\n",
              "      <td>0.3</td>\n",
              "      <td>0.0</td>\n",
              "      <td>1.3</td>\n",
              "      <td>3.7</td>\n",
              "      <td>0.0</td>\n",
              "      <td>0.0</td>\n",
              "      <td>0.0</td>\n",
              "      <td>60</td>\n",
              "      <td>1</td>\n",
              "      <td>1</td>\n",
              "      <td>MILMIL414</td>\n",
              "      <td>1.0</td>\n",
              "      <td>1.0</td>\n",
              "      <td>1812.0</td>\n",
              "      <td>26.0</td>\n",
              "      <td>26.0</td>\n",
              "      <td>Yes</td>\n",
              "      <td>No</td>\n",
              "      <td>No</td>\n",
              "      <td>No</td>\n",
              "      <td>No</td>\n",
              "      <td>Unknown</td>\n",
              "      <td>No</td>\n",
              "      <td>No</td>\n",
              "      <td>No</td>\n",
              "      <td>No</td>\n",
              "      <td>No</td>\n",
              "      <td>Yes</td>\n",
              "      <td>0</td>\n",
              "      <td>0</td>\n",
              "      <td>Yes</td>\n",
              "      <td>No</td>\n",
              "      <td>0</td>\n",
              "      <td>6</td>\n",
              "      <td>No</td>\n",
              "      <td>0</td>\n",
              "      <td>Unknown</td>\n",
              "      <td>No</td>\n",
              "      <td>3-Good</td>\n",
              "      <td>Town</td>\n",
              "      <td>Crafts</td>\n",
              "      <td>Yes</td>\n",
              "    </tr>\n",
              "    <tr>\n",
              "      <th>3</th>\n",
              "      <td>3000022</td>\n",
              "      <td>No</td>\n",
              "      <td>82.28</td>\n",
              "      <td>1312.0</td>\n",
              "      <td>75.0</td>\n",
              "      <td>1.24</td>\n",
              "      <td>0.0</td>\n",
              "      <td>0.0</td>\n",
              "      <td>157.0</td>\n",
              "      <td>8.1</td>\n",
              "      <td>52.0</td>\n",
              "      <td>7.7</td>\n",
              "      <td>76.0</td>\n",
              "      <td>4.3</td>\n",
              "      <td>1.3</td>\n",
              "      <td>200.3</td>\n",
              "      <td>370.3</td>\n",
              "      <td>147.0</td>\n",
              "      <td>555.7</td>\n",
              "      <td>303.7</td>\n",
              "      <td>59.7</td>\n",
              "      <td>0.0</td>\n",
              "      <td>22.7</td>\n",
              "      <td>59</td>\n",
              "      <td>2</td>\n",
              "      <td>2</td>\n",
              "      <td>PITHOM412</td>\n",
              "      <td>9.0</td>\n",
              "      <td>4.0</td>\n",
              "      <td>458.0</td>\n",
              "      <td>30.0</td>\n",
              "      <td>0.0</td>\n",
              "      <td>No</td>\n",
              "      <td>No</td>\n",
              "      <td>Yes</td>\n",
              "      <td>No</td>\n",
              "      <td>No</td>\n",
              "      <td>Known</td>\n",
              "      <td>Yes</td>\n",
              "      <td>Yes</td>\n",
              "      <td>No</td>\n",
              "      <td>No</td>\n",
              "      <td>No</td>\n",
              "      <td>Yes</td>\n",
              "      <td>0</td>\n",
              "      <td>0</td>\n",
              "      <td>Yes</td>\n",
              "      <td>No</td>\n",
              "      <td>0</td>\n",
              "      <td>6</td>\n",
              "      <td>No</td>\n",
              "      <td>0</td>\n",
              "      <td>10</td>\n",
              "      <td>No</td>\n",
              "      <td>4-Medium</td>\n",
              "      <td>Other</td>\n",
              "      <td>Other</td>\n",
              "      <td>No</td>\n",
              "    </tr>\n",
              "    <tr>\n",
              "      <th>4</th>\n",
              "      <td>3000026</td>\n",
              "      <td>Yes</td>\n",
              "      <td>17.14</td>\n",
              "      <td>0.0</td>\n",
              "      <td>17.0</td>\n",
              "      <td>0.00</td>\n",
              "      <td>0.0</td>\n",
              "      <td>0.0</td>\n",
              "      <td>0.0</td>\n",
              "      <td>-0.2</td>\n",
              "      <td>0.0</td>\n",
              "      <td>0.0</td>\n",
              "      <td>0.0</td>\n",
              "      <td>0.0</td>\n",
              "      <td>0.0</td>\n",
              "      <td>0.0</td>\n",
              "      <td>0.0</td>\n",
              "      <td>0.0</td>\n",
              "      <td>0.0</td>\n",
              "      <td>0.0</td>\n",
              "      <td>0.0</td>\n",
              "      <td>0.0</td>\n",
              "      <td>0.0</td>\n",
              "      <td>53</td>\n",
              "      <td>2</td>\n",
              "      <td>2</td>\n",
              "      <td>OKCTUL918</td>\n",
              "      <td>4.0</td>\n",
              "      <td>3.0</td>\n",
              "      <td>852.0</td>\n",
              "      <td>46.0</td>\n",
              "      <td>54.0</td>\n",
              "      <td>No</td>\n",
              "      <td>No</td>\n",
              "      <td>No</td>\n",
              "      <td>No</td>\n",
              "      <td>No</td>\n",
              "      <td>Known</td>\n",
              "      <td>Yes</td>\n",
              "      <td>Yes</td>\n",
              "      <td>No</td>\n",
              "      <td>No</td>\n",
              "      <td>Yes</td>\n",
              "      <td>Yes</td>\n",
              "      <td>0</td>\n",
              "      <td>0</td>\n",
              "      <td>No</td>\n",
              "      <td>Yes</td>\n",
              "      <td>0</td>\n",
              "      <td>9</td>\n",
              "      <td>No</td>\n",
              "      <td>1</td>\n",
              "      <td>10</td>\n",
              "      <td>No</td>\n",
              "      <td>1-Highest</td>\n",
              "      <td>Other</td>\n",
              "      <td>Professional</td>\n",
              "      <td>Yes</td>\n",
              "    </tr>\n",
              "  </tbody>\n",
              "</table>\n",
              "</div>"
            ],
            "text/plain": [
              "   CustomerID Churn  MonthlyRevenue  ...  PrizmCode    Occupation  MaritalStatus\n",
              "0     3000002   Yes           24.00  ...   Suburban  Professional             No\n",
              "1     3000010   Yes           16.99  ...   Suburban  Professional            Yes\n",
              "2     3000014    No           38.00  ...       Town        Crafts            Yes\n",
              "3     3000022    No           82.28  ...      Other         Other             No\n",
              "4     3000026   Yes           17.14  ...      Other  Professional            Yes\n",
              "\n",
              "[5 rows x 58 columns]"
            ]
          },
          "metadata": {},
          "execution_count": 149
        }
      ]
    },
    {
      "cell_type": "code",
      "metadata": {
        "id": "nUTQD7vGrRGf",
        "colab": {
          "base_uri": "https://localhost:8080/"
        },
        "outputId": "fe8fe0af-793e-4837-8e54-677252479942"
      },
      "source": [
        "# Displaying the count and datatype of each column in the dataset\n",
        "\n",
        "data.info()"
      ],
      "execution_count": null,
      "outputs": [
        {
          "output_type": "stream",
          "text": [
            "<class 'pandas.core.frame.DataFrame'>\n",
            "RangeIndex: 51047 entries, 0 to 51046\n",
            "Data columns (total 58 columns):\n",
            " #   Column                     Non-Null Count  Dtype  \n",
            "---  ------                     --------------  -----  \n",
            " 0   CustomerID                 51047 non-null  int64  \n",
            " 1   Churn                      51047 non-null  object \n",
            " 2   MonthlyRevenue             50891 non-null  float64\n",
            " 3   MonthlyMinutes             50891 non-null  float64\n",
            " 4   TotalRecurringCharge       50891 non-null  float64\n",
            " 5   DirectorAssistedCalls      50891 non-null  float64\n",
            " 6   OverageMinutes             50891 non-null  float64\n",
            " 7   RoamingCalls               50891 non-null  float64\n",
            " 8   PercChangeMinutes          50680 non-null  float64\n",
            " 9   PercChangeRevenues         50680 non-null  float64\n",
            " 10  DroppedCalls               51047 non-null  float64\n",
            " 11  BlockedCalls               51047 non-null  float64\n",
            " 12  UnansweredCalls            51047 non-null  float64\n",
            " 13  CustomerCareCalls          51047 non-null  float64\n",
            " 14  ThreewayCalls              51047 non-null  float64\n",
            " 15  ReceivedCalls              51047 non-null  float64\n",
            " 16  OutboundCalls              51047 non-null  float64\n",
            " 17  InboundCalls               51047 non-null  float64\n",
            " 18  PeakCallsInOut             51047 non-null  float64\n",
            " 19  OffPeakCallsInOut          51047 non-null  float64\n",
            " 20  DroppedBlockedCalls        51047 non-null  float64\n",
            " 21  CallForwardingCalls        51047 non-null  float64\n",
            " 22  CallWaitingCalls           51047 non-null  float64\n",
            " 23  MonthsInService            51047 non-null  int64  \n",
            " 24  UniqueSubs                 51047 non-null  int64  \n",
            " 25  ActiveSubs                 51047 non-null  int64  \n",
            " 26  ServiceArea                51023 non-null  object \n",
            " 27  Handsets                   51046 non-null  float64\n",
            " 28  HandsetModels              51046 non-null  float64\n",
            " 29  CurrentEquipmentDays       51046 non-null  float64\n",
            " 30  AgeHH1                     50138 non-null  float64\n",
            " 31  AgeHH2                     50138 non-null  float64\n",
            " 32  ChildrenInHH               51047 non-null  object \n",
            " 33  HandsetRefurbished         51047 non-null  object \n",
            " 34  HandsetWebCapable          51047 non-null  object \n",
            " 35  TruckOwner                 51047 non-null  object \n",
            " 36  RVOwner                    51047 non-null  object \n",
            " 37  Homeownership              51047 non-null  object \n",
            " 38  BuysViaMailOrder           51047 non-null  object \n",
            " 39  RespondsToMailOffers       51047 non-null  object \n",
            " 40  OptOutMailings             51047 non-null  object \n",
            " 41  NonUSTravel                51047 non-null  object \n",
            " 42  OwnsComputer               51047 non-null  object \n",
            " 43  HasCreditCard              51047 non-null  object \n",
            " 44  RetentionCalls             51047 non-null  int64  \n",
            " 45  RetentionOffersAccepted    51047 non-null  int64  \n",
            " 46  NewCellphoneUser           51047 non-null  object \n",
            " 47  NotNewCellphoneUser        51047 non-null  object \n",
            " 48  ReferralsMadeBySubscriber  51047 non-null  int64  \n",
            " 49  IncomeGroup                51047 non-null  int64  \n",
            " 50  OwnsMotorcycle             51047 non-null  object \n",
            " 51  AdjustmentsToCreditRating  51047 non-null  int64  \n",
            " 52  HandsetPrice               51047 non-null  object \n",
            " 53  MadeCallToRetentionTeam    51047 non-null  object \n",
            " 54  CreditRating               51047 non-null  object \n",
            " 55  PrizmCode                  51047 non-null  object \n",
            " 56  Occupation                 51047 non-null  object \n",
            " 57  MaritalStatus              51047 non-null  object \n",
            "dtypes: float64(26), int64(9), object(23)\n",
            "memory usage: 22.6+ MB\n"
          ],
          "name": "stdout"
        }
      ]
    },
    {
      "cell_type": "code",
      "metadata": {
        "id": "-omqyoMar_8J",
        "colab": {
          "base_uri": "https://localhost:8080/"
        },
        "outputId": "6fbc7a68-ae4c-475a-bb4b-f4f2109e7ca2"
      },
      "source": [
        "data.columns"
      ],
      "execution_count": null,
      "outputs": [
        {
          "output_type": "execute_result",
          "data": {
            "text/plain": [
              "Index(['CustomerID', 'Churn', 'MonthlyRevenue', 'MonthlyMinutes',\n",
              "       'TotalRecurringCharge', 'DirectorAssistedCalls', 'OverageMinutes',\n",
              "       'RoamingCalls', 'PercChangeMinutes', 'PercChangeRevenues',\n",
              "       'DroppedCalls', 'BlockedCalls', 'UnansweredCalls', 'CustomerCareCalls',\n",
              "       'ThreewayCalls', 'ReceivedCalls', 'OutboundCalls', 'InboundCalls',\n",
              "       'PeakCallsInOut', 'OffPeakCallsInOut', 'DroppedBlockedCalls',\n",
              "       'CallForwardingCalls', 'CallWaitingCalls', 'MonthsInService',\n",
              "       'UniqueSubs', 'ActiveSubs', 'ServiceArea', 'Handsets', 'HandsetModels',\n",
              "       'CurrentEquipmentDays', 'AgeHH1', 'AgeHH2', 'ChildrenInHH',\n",
              "       'HandsetRefurbished', 'HandsetWebCapable', 'TruckOwner', 'RVOwner',\n",
              "       'Homeownership', 'BuysViaMailOrder', 'RespondsToMailOffers',\n",
              "       'OptOutMailings', 'NonUSTravel', 'OwnsComputer', 'HasCreditCard',\n",
              "       'RetentionCalls', 'RetentionOffersAccepted', 'NewCellphoneUser',\n",
              "       'NotNewCellphoneUser', 'ReferralsMadeBySubscriber', 'IncomeGroup',\n",
              "       'OwnsMotorcycle', 'AdjustmentsToCreditRating', 'HandsetPrice',\n",
              "       'MadeCallToRetentionTeam', 'CreditRating', 'PrizmCode', 'Occupation',\n",
              "       'MaritalStatus'],\n",
              "      dtype='object')"
            ]
          },
          "metadata": {},
          "execution_count": 151
        }
      ]
    },
    {
      "cell_type": "markdown",
      "metadata": {
        "id": "7SejOKamz-61"
      },
      "source": [
        "## Data Cleaning"
      ]
    },
    {
      "cell_type": "code",
      "metadata": {
        "colab": {
          "base_uri": "https://localhost:8080/"
        },
        "id": "L7Lvpss8rUM2",
        "outputId": "0dc74c44-77b3-4238-ef74-5c1944b279c5"
      },
      "source": [
        "# Finding number of customers with monthly revenue 0\n",
        "\n",
        "len(data[data[\"MonthlyRevenue\"] == 0])"
      ],
      "execution_count": null,
      "outputs": [
        {
          "output_type": "execute_result",
          "data": {
            "text/plain": [
              "6"
            ]
          },
          "metadata": {},
          "execution_count": 152
        }
      ]
    },
    {
      "cell_type": "code",
      "metadata": {
        "colab": {
          "base_uri": "https://localhost:8080/"
        },
        "id": "chxf2gjxsN1D",
        "outputId": "aaa2234f-eb57-4e88-8db1-22c49ca2ff58"
      },
      "source": [
        "# Fidning number of columns have missing values more than 5%\n",
        "\n",
        "data['missing_percentage'] = data[data.isnull().any(axis=1)].apply(lambda x : 100 - ((x.count()/58)*100),axis=1)\n",
        "len(data[data['missing_percentage']>5])\n"
      ],
      "execution_count": null,
      "outputs": [
        {
          "output_type": "execute_result",
          "data": {
            "text/plain": [
              "159"
            ]
          },
          "metadata": {},
          "execution_count": 153
        }
      ]
    },
    {
      "cell_type": "code",
      "metadata": {
        "id": "hIinr6hxIsog"
      },
      "source": [
        "data.drop('missing_percentage',axis=1,inplace=True)"
      ],
      "execution_count": null,
      "outputs": []
    },
    {
      "cell_type": "code",
      "metadata": {
        "colab": {
          "base_uri": "https://localhost:8080/"
        },
        "id": "88rgVt20xMph",
        "outputId": "646acb38-097f-43c5-e21e-fa5e3e2dd763"
      },
      "source": [
        "# Plotting boxplot for the Unique Subscriptions column\n",
        "\n",
        "sns.boxplot(x = data['UniqueSubs'])"
      ],
      "execution_count": null,
      "outputs": [
        {
          "output_type": "execute_result",
          "data": {
            "text/plain": [
              "<matplotlib.axes._subplots.AxesSubplot at 0x7f56da889310>"
            ]
          },
          "metadata": {},
          "execution_count": 155
        },
        {
          "output_type": "display_data",
          "data": {
            "image/png": "[encoded data removed]",
            "text/plain": [
              "<Figure size 432x288 with 1 Axes>"
            ]
          },
          "metadata": {
            "needs_background": "light"
          }
        }
      ]
    },
    {
      "cell_type": "code",
      "metadata": {
        "colab": {
          "base_uri": "https://localhost:8080/"
        },
        "id": "j_zsNuNj6uJ9",
        "outputId": "4e18c482-0e53-41d3-cdb8-97e45c03a39f"
      },
      "source": [
        "# Plotting boxplot for the number of automated calls\n",
        "\n",
        "sns.boxplot(x = data['DirectorAssistedCalls'])"
      ],
      "execution_count": null,
      "outputs": [
        {
          "output_type": "execute_result",
          "data": {
            "text/plain": [
              "<matplotlib.axes._subplots.AxesSubplot at 0x7f56da8eec50>"
            ]
          },
          "metadata": {},
          "execution_count": 156
        },
        {
          "output_type": "display_data",
          "data": {
            "image/png": "[encoded data removed]",
            "text/plain": [
              "<Figure size 432x288 with 1 Axes>"
            ]
          },
          "metadata": {
            "needs_background": "light"
          }
        }
      ]
    },
    {
      "cell_type": "code",
      "metadata": {
        "id": "-F5_JT1K88sw"
      },
      "source": [
        "# Defining a function to drop outliers in the above mentioned 2 columns\n",
        "\n",
        "def outlier(data):\n",
        "    Q1 = data['UniqueSubs'].quantile(0.25)\n",
        "    Q3 = data['UniqueSubs'].quantile(0.75)\n",
        "    IQR = Q3-Q1\n",
        "    data['UniqueSubs'] = data['UniqueSubs'][~((data['UniqueSubs'] < (Q1 - 1.5 * IQR)) |(data['UniqueSubs'] > (Q3 + 1.5 * IQR)))]\n",
        "    Q1 = data['DirectorAssistedCalls'].quantile(0.25)\n",
        "    Q3 = data['DirectorAssistedCalls'].quantile(0.75)\n",
        "    IQR = Q3-Q1\n",
        "    data['DirectorAssistedCalls'] = data['DirectorAssistedCalls'][~((data['DirectorAssistedCalls'] < (Q1 - 1.5 * IQR)) |(data['DirectorAssistedCalls'] > (Q3 + 1.5 * IQR)))]"
      ],
      "execution_count": null,
      "outputs": []
    },
    {
      "cell_type": "code",
      "metadata": {
        "id": "1emvBP8s6Plr"
      },
      "source": [
        "# Defining a function to do missing value imputation in the columns\n",
        "\n",
        "def null(data):\n",
        "    data['MonthlyRevenue'].fillna(value = int(data['MonthlyRevenue'].mean()),inplace=True)\n",
        "    data['MonthlyMinutes'].fillna(value = data['MonthlyMinutes'].mean(),inplace=True)\n",
        "    data['TotalRecurringCharge'].fillna(value = data['TotalRecurringCharge'].mean(),inplace=True)\n",
        "    data['DirectorAssistedCalls'].fillna(value = data['DirectorAssistedCalls'].mean(),inplace=True)\n",
        "    data['OverageMinutes'].fillna(value = data['OverageMinutes'].mean(),inplace=True)\n",
        "    data['RoamingCalls'].fillna(value = data['RoamingCalls'].mean(),inplace=True)\n",
        "    data['PercChangeRevenues'].fillna(value = data['PercChangeRevenues'].mean(),inplace=True)\n",
        "    data['PercChangeMinutes'].fillna(value = data['PercChangeMinutes'].mean(),inplace=True)\n",
        "    data['ServiceArea'].fillna(value = \" \",inplace=True)\n",
        "    data['AgeHH2'].fillna(value = mode(data['AgeHH2']),inplace=True)\n",
        "    data['AgeHH1'].fillna(value = mode(data['AgeHH1']),inplace=True)\n",
        "    data['CurrentEquipmentDays'].fillna(value = mode(data['CurrentEquipmentDays']),inplace=True)\n",
        "    data['HandsetModels'].fillna(value = mode(data['HandsetModels']),inplace=True)\n",
        "    data['Handsets'].fillna(value = mode(data['Handsets']),inplace=True)\n",
        "    data[\"UniqueSubs\"].fillna(value = mode(data[\"UniqueSubs\"]),inplace=True)\n",
        "    data.replace(\"Yes\",int(1),inplace=True)\n",
        "    data.replace(\"No\",int(0),inplace=True)\n",
        "    data.replace(\"Known\",inplace=True)\n",
        "    data.replace(\"Unknown\",inplace=True)\n",
        "    data['MaritalStatus'] = data['MaritalStatus'].astype(int)\n",
        "    data['HandsetPrice'] = data['HandsetPrice'].astype(int)"
      ],
      "execution_count": null,
      "outputs": []
    },
    {
      "cell_type": "code",
      "metadata": {
        "id": "C6_IBiJhCbik"
      },
      "source": [
        "# Dropping columns that don't affect churn\n",
        "\n",
        "def drop(data):\n",
        "    data.drop(['Homeownership','ServiceArea','RVOwner','TruckOwner',\"CustomerID\"],axis=1,inplace=True)"
      ],
      "execution_count": null,
      "outputs": []
    },
    {
      "cell_type": "code",
      "metadata": {
        "id": "kg2i4ICRBZAi"
      },
      "source": [
        "# Function to convert the credit rating column to float datatype\n",
        "\n",
        "def credit(data):\n",
        "    for i in range(len(data['CreditRating'])):\n",
        "        data['CreditRating'][i] = re.sub('[^0-9]',\" \",data['CreditRating'][i])\n",
        "    data['CreditRating'] = data['CreditRating'].astype(float)\n",
        "    data = pd.get_dummies(data,drop_first=True)\n",
        "    return data"
      ],
      "execution_count": null,
      "outputs": []
    },
    {
      "cell_type": "code",
      "metadata": {
        "id": "mpCTVYCkGMCX"
      },
      "source": [
        "outlier(data)\n",
        "null(data)\n",
        "drop(data)\n",
        "data = credit(data)"
      ],
      "execution_count": null,
      "outputs": []
    },
    {
      "cell_type": "markdown",
      "metadata": {
        "id": "plmUL1L5_9A_"
      },
      "source": [
        "## Exploratory Analysis"
      ]
    },
    {
      "cell_type": "code",
      "metadata": {
        "colab": {
          "base_uri": "https://localhost:8080/"
        },
        "id": "Tm0akG6n872r",
        "outputId": "7aa12b01-4d1e-4498-db36-d732502abbe0"
      },
      "source": [
        "# Plotting heatmap to study the correlation among all the columns\n",
        "\n",
        "plt.figure(figsize=(12,12))\n",
        "sns.heatmap(data.corr(),vmin=-1, vmax=1) "
      ],
      "execution_count": null,
      "outputs": [
        {
          "output_type": "execute_result",
          "data": {
            "text/plain": [
              "<matplotlib.axes._subplots.AxesSubplot at 0x7f56da54cb10>"
            ]
          },
          "metadata": {},
          "execution_count": 162
        },
        {
          "output_type": "display_data",
          "data": {
            "image/png": "[encoded data removed]",
            "text/plain": [
              "<Figure size 864x864 with 2 Axes>"
            ]
          },
          "metadata": {
            "needs_background": "light"
          }
        }
      ]
    },
    {
      "cell_type": "code",
      "metadata": {
        "colab": {
          "base_uri": "https://localhost:8080/"
        },
        "id": "hbq5wJzs_-06",
        "outputId": "3c4a9d24-f792-4890-a176-4817a515475e"
      },
      "source": [
        "# Plotting scatter plot between monthly minutes and overage minutes\n",
        "\n",
        "sns.scatterplot(data['OverageMinutes'],data['MonthlyRevenue'])\n",
        "sp.pearsonr(data['OverageMinutes'],data['MonthlyRevenue'])[0]"
      ],
      "execution_count": null,
      "outputs": [
        {
          "output_type": "execute_result",
          "data": {
            "text/plain": [
              "0.7878338898384089"
            ]
          },
          "metadata": {},
          "execution_count": 163
        },
        {
          "output_type": "display_data",
          "data": {
            "image/png": "[encoded data removed]",
            "text/plain": [
              "<Figure size 432x288 with 1 Axes>"
            ]
          },
          "metadata": {
            "needs_background": "light"
          }
        }
      ]
    },
    {
      "cell_type": "code",
      "metadata": {
        "colab": {
          "base_uri": "https://localhost:8080/"
        },
        "id": "Gcr5j7IqAM4p",
        "outputId": "f8aab4b9-10af-4f96-8854-112add2f83db"
      },
      "source": [
        "# Plotting a categorical plot between monthly revenue and number of active subscriptions\n",
        "\n",
        "sns.catplot(x = 'ActiveSubs',y = 'MonthlyRevenue',data = data)"
      ],
      "execution_count": null,
      "outputs": [
        {
          "output_type": "execute_result",
          "data": {
            "text/plain": [
              "<seaborn.axisgrid.FacetGrid at 0x7f56da924b10>"
            ]
          },
          "metadata": {},
          "execution_count": 164
        },
        {
          "output_type": "display_data",
          "data": {
            "image/png": "[encoded data removed]",
            "text/plain": [
              "<Figure size 360x360 with 1 Axes>"
            ]
          },
          "metadata": {
            "needs_background": "light"
          }
        }
      ]
    },
    {
      "cell_type": "code",
      "metadata": {
        "colab": {
          "base_uri": "https://localhost:8080/"
        },
        "id": "yiQowrkXYgme",
        "outputId": "4f2365e3-0a74-4090-95c6-55b89b60a5db"
      },
      "source": [
        "# Plotting a bargraph to see hoe credit rating affects churn rate\n",
        "\n",
        "yes = data.loc[data['Churn']==1, \"CreditRating\"]\n",
        "no =  data.loc[data['Churn']==0, \"CreditRating\"]\n",
        "\n",
        "sns.histplot(yes,legend=\"Churn = yes\",color=\"r\")\n",
        "sns.histplot(no,legend = \"Churn = no\",color = \"b\")\n",
        "\n",
        "plt.legend()\n",
        "plt.show()"
      ],
      "execution_count": null,
      "outputs": [
        {
          "output_type": "stream",
          "text": [
            "No handles with labels found to put in legend.\n"
          ],
          "name": "stderr"
        },
        {
          "output_type": "display_data",
          "data": {
            "image/png": "[encoded data removed]",
            "text/plain": [
              "<Figure size 432x288 with 1 Axes>"
            ]
          },
          "metadata": {
            "needs_background": "light"
          }
        }
      ]
    },
    {
      "cell_type": "markdown",
      "metadata": {
        "id": "TskWodyvHvcl"
      },
      "source": [
        "## Feature Engineering"
      ]
    },
    {
      "cell_type": "code",
      "metadata": {
        "id": "O27Y9xs7Hx-6"
      },
      "source": [
        "# Defining a function to create 2 extra features\n",
        "\n",
        "def feature(data):\n",
        "    data['Active_Over_Total'] = data['ActiveSubs']/data['UniqueSubs']*100\n",
        "    data['Overage_Over_Monthly'] = data['OverageMinutes']/data['MonthlyMinutes']*100\n",
        "    data['Overage_Over_Monthly'].fillna(0,inplace=True)"
      ],
      "execution_count": null,
      "outputs": []
    },
    {
      "cell_type": "code",
      "metadata": {
        "id": "MreDDlyPGgXm"
      },
      "source": [
        "feature(data) "
      ],
      "execution_count": null,
      "outputs": []
    },
    {
      "cell_type": "markdown",
      "metadata": {
        "id": "givlM_eYednN"
      },
      "source": [
        "## Checking for Multicollinearity"
      ]
    },
    {
      "cell_type": "code",
      "metadata": {
        "id": "NeZcN958bdYd"
      },
      "source": [
        "# Calculating variance inflation factor to reduce multicollinearity\n",
        "\n",
        "vif_data = pd.DataFrame()\n",
        "vif_data[\"feature\"] = data.columns\n",
        "vif_data[\"VIF\"] = [variance_inflation_factor(data.values, i)\n",
        "                          for i in range(len(data.columns))]"
      ],
      "execution_count": null,
      "outputs": []
    },
    {
      "cell_type": "code",
      "metadata": {
        "id": "Q9z2q7lfc6FR"
      },
      "source": [
        "# Dropping those columns with VIF greater than 10\n",
        "\n",
        "data.drop(vif_data[vif_data['VIF']>10]['feature'],axis=1,inplace=True)"
      ],
      "execution_count": null,
      "outputs": []
    },
    {
      "cell_type": "code",
      "metadata": {
        "colab": {
          "base_uri": "https://localhost:8080/"
        },
        "id": "czCzZzdoGotx",
        "outputId": "3e767544-4803-48ad-cee5-ac29e5a10b6e"
      },
      "source": [
        "data.info()"
      ],
      "execution_count": null,
      "outputs": [
        {
          "output_type": "stream",
          "text": [
            "<class 'pandas.core.frame.DataFrame'>\n",
            "RangeIndex: 51047 entries, 0 to 51046\n",
            "Data columns (total 45 columns):\n",
            " #   Column                     Non-Null Count  Dtype  \n",
            "---  ------                     --------------  -----  \n",
            " 0   Churn                      51047 non-null  int64  \n",
            " 1   DirectorAssistedCalls      51047 non-null  float64\n",
            " 2   OverageMinutes             51047 non-null  float64\n",
            " 3   RoamingCalls               51047 non-null  float64\n",
            " 4   PercChangeMinutes          51047 non-null  float64\n",
            " 5   PercChangeRevenues         51047 non-null  float64\n",
            " 6   UnansweredCalls            51047 non-null  float64\n",
            " 7   CustomerCareCalls          51047 non-null  float64\n",
            " 8   ThreewayCalls              51047 non-null  float64\n",
            " 9   ReceivedCalls              51047 non-null  float64\n",
            " 10  OutboundCalls              51047 non-null  float64\n",
            " 11  InboundCalls               51047 non-null  float64\n",
            " 12  PeakCallsInOut             51047 non-null  float64\n",
            " 13  OffPeakCallsInOut          51047 non-null  float64\n",
            " 14  CallForwardingCalls        51047 non-null  float64\n",
            " 15  CallWaitingCalls           51047 non-null  float64\n",
            " 16  CurrentEquipmentDays       51047 non-null  float64\n",
            " 17  AgeHH1                     51047 non-null  float64\n",
            " 18  AgeHH2                     51047 non-null  float64\n",
            " 19  ChildrenInHH               51047 non-null  int64  \n",
            " 20  HandsetRefurbished         51047 non-null  int64  \n",
            " 21  OptOutMailings             51047 non-null  int64  \n",
            " 22  NonUSTravel                51047 non-null  int64  \n",
            " 23  OwnsComputer               51047 non-null  int64  \n",
            " 24  HasCreditCard              51047 non-null  int64  \n",
            " 25  RetentionOffersAccepted    51047 non-null  int64  \n",
            " 26  NewCellphoneUser           51047 non-null  int64  \n",
            " 27  NotNewCellphoneUser        51047 non-null  int64  \n",
            " 28  ReferralsMadeBySubscriber  51047 non-null  int64  \n",
            " 29  IncomeGroup                51047 non-null  int64  \n",
            " 30  OwnsMotorcycle             51047 non-null  int64  \n",
            " 31  AdjustmentsToCreditRating  51047 non-null  int64  \n",
            " 32  HandsetPrice               51047 non-null  int64  \n",
            " 33  CreditRating               51047 non-null  float64\n",
            " 34  MaritalStatus              51047 non-null  int64  \n",
            " 35  PrizmCode_Rural            51047 non-null  uint8  \n",
            " 36  PrizmCode_Suburban         51047 non-null  uint8  \n",
            " 37  PrizmCode_Town             51047 non-null  uint8  \n",
            " 38  Occupation_Crafts          51047 non-null  uint8  \n",
            " 39  Occupation_Homemaker       51047 non-null  uint8  \n",
            " 40  Occupation_Professional    51047 non-null  uint8  \n",
            " 41  Occupation_Retired         51047 non-null  uint8  \n",
            " 42  Occupation_Self            51047 non-null  uint8  \n",
            " 43  Occupation_Student         51047 non-null  uint8  \n",
            " 44  Overage_Over_Monthly       51047 non-null  float64\n",
            "dtypes: float64(20), int64(16), uint8(9)\n",
            "memory usage: 14.5 MB\n"
          ],
          "name": "stdout"
        }
      ]
    },
    {
      "cell_type": "markdown",
      "metadata": {
        "id": "qfrOaXEw8_nM"
      },
      "source": [
        "## Prediction"
      ]
    },
    {
      "cell_type": "code",
      "metadata": {
        "id": "Bw5DFEwQy3Fy"
      },
      "source": [
        "X = data.drop(\"Churn\",axis=1)\n",
        "Y = data['Churn']"
      ],
      "execution_count": null,
      "outputs": []
    },
    {
      "cell_type": "code",
      "metadata": {
        "id": "GKSBAXGaidA8"
      },
      "source": [
        "#Performing undersampling since the dataset is unbalanced.\n",
        "\n",
        "undersample = NearMiss(version=1)\n",
        "X, Y = undersample.fit_resample(X, Y)"
      ],
      "execution_count": null,
      "outputs": []
    },
    {
      "cell_type": "code",
      "metadata": {
        "id": "a6ySB8nd63Al"
      },
      "source": [
        "X_train,X_test,y_train,y_test = train_test_split(X,Y,test_size = 0.2)"
      ],
      "execution_count": null,
      "outputs": []
    },
    {
      "cell_type": "code",
      "metadata": {
        "id": "fosBe--5R2IK"
      },
      "source": [
        "# Standardizing the data\n",
        "\n",
        "scaler = StandardScaler()\n",
        "X_train = scaler.fit_transform(X_train)\n",
        "X_test = scaler.transform(X_test)"
      ],
      "execution_count": null,
      "outputs": []
    },
    {
      "cell_type": "code",
      "metadata": {
        "id": "BdCFPp-j8CP5",
        "colab": {
          "base_uri": "https://localhost:8080/"
        },
        "outputId": "6cfdd633-5770-48fc-c14e-11961ed3af6d"
      },
      "source": [
        "model_log = LogisticRegression()\n",
        "model_log.fit(X_train,y_train)\n",
        "pred_log = model_log.predict(X_test)\n",
        "print(accuracy_score(y_test,pred_log),'\\n',f1_score(y_test,pred_log),'\\n',precision_score(y_test,pred_log),'\\n',recall_score(y_test,pred_log)) "
      ],
      "execution_count": null,
      "outputs": [
        {
          "output_type": "stream",
          "text": [
            "0.7211554800339847 \n",
            " 0.6803039158386908 \n",
            " 0.8109614491407339 \n",
            " 0.5859060402684564\n"
          ],
          "name": "stdout"
        }
      ]
    },
    {
      "cell_type": "code",
      "metadata": {
        "colab": {
          "base_uri": "https://localhost:8080/"
        },
        "id": "EK1h17hmIsCQ",
        "outputId": "7d0196c0-fa18-42c7-c903-0472e3f31031"
      },
      "source": [
        "model_rf = RandomForestClassifier()\n",
        "model_rf.fit(X_train,y_train) \n",
        "pred_rf = model_rf.predict(X_test)\n",
        "print(accuracy_score(y_test,pred_rf),'\\n',f1_score(y_test,pred_rf),'\\n',precision_score(y_test,pred_rf),'\\n',recall_score(y_test,pred_rf))"
      ],
      "execution_count": null,
      "outputs": [
        {
          "output_type": "stream",
          "text": [
            "0.7408666100254885 \n",
            " 0.7065614777756397 \n",
            " 0.8281461434370772 \n",
            " 0.6161073825503356\n"
          ],
          "name": "stdout"
        }
      ]
    },
    {
      "cell_type": "code",
      "metadata": {
        "colab": {
          "base_uri": "https://localhost:8080/"
        },
        "id": "wOX_v_p_jXt5",
        "outputId": "dddec5a1-acce-4e0e-9b48-e17db42d37e4"
      },
      "source": [
        "model_xgb = XGBClassifier()\n",
        "model_xgb.fit(X_train,y_train)\n",
        "pred_xgb = model_xgb.predict(X_test)\n",
        "print(accuracy_score(y_test,pred_xgb),'\\n',f1_score(y_test,pred_xgb),'\\n',precision_score(y_test,pred_xgb),'\\n',recall_score(y_test,pred_xgb))"
      ],
      "execution_count": null,
      "outputs": [
        {
          "output_type": "stream",
          "text": [
            "0.7401869158878505 \n",
            " 0.6872571077930048 \n",
            " 0.8800419067574646 \n",
            " 0.5637583892617449\n"
          ],
          "name": "stdout"
        }
      ]
    },
    {
      "cell_type": "code",
      "metadata": {
        "colab": {
          "base_uri": "https://localhost:8080/"
        },
        "id": "jyznzdgaj1dx",
        "outputId": "9bca32e8-d1af-40c9-b80e-7dd8ec381767"
      },
      "source": [
        "model_cat = CatBoostClassifier(silent=True)\n",
        "model_cat.fit(X_train,y_train)\n",
        "pred_cat = model_cat.predict(X_test)\n",
        "print(accuracy_score(y_test,pred_cat),'\\n',f1_score(y_test,pred_cat),'\\n',precision_score(y_test,pred_cat),'\\n',recall_score(y_test,pred_cat))"
      ],
      "execution_count": null,
      "outputs": [
        {
          "output_type": "stream",
          "text": [
            "0.7491928632115548 \n",
            " 0.7147274835717047 \n",
            " 0.8427529626253418 \n",
            " 0.6204697986577181\n"
          ],
          "name": "stdout"
        }
      ]
    },
    {
      "cell_type": "markdown",
      "metadata": {
        "id": "vreBJz8OpLwh"
      },
      "source": [
        "## Evaluating on Test data"
      ]
    },
    {
      "cell_type": "code",
      "metadata": {
        "id": "1jcvWEnVpNUw"
      },
      "source": [
        "test = pd.read_csv(\"/content/drive/MyDrive/AINE/Telecom - Prediction Data.csv\")"
      ],
      "execution_count": null,
      "outputs": []
    },
    {
      "cell_type": "code",
      "metadata": {
        "id": "Xi0r7nBvIBFV"
      },
      "source": [
        "test.drop('Churn',axis=1,inplace=True)"
      ],
      "execution_count": null,
      "outputs": []
    },
    {
      "cell_type": "code",
      "metadata": {
        "id": "LdbrmcejICJq"
      },
      "source": [
        "outlier(test)\n",
        "null(test)\n",
        "drop(test)\n",
        "test = credit(test)\n",
        "feature(test) \n",
        "test.drop(vif_data[vif_data['VIF']>10]['feature'],axis=1,inplace=True)"
      ],
      "execution_count": null,
      "outputs": []
    },
    {
      "cell_type": "code",
      "metadata": {
        "id": "dWLlurSvIduw"
      },
      "source": [
        "test = scaler.transform(test)"
      ],
      "execution_count": null,
      "outputs": []
    },
    {
      "cell_type": "code",
      "metadata": {
        "id": "CcPC1uNEI2W5"
      },
      "source": [
        "pred = model_cat.predict(test)"
      ],
      "execution_count": null,
      "outputs": []
    }
  ]
}